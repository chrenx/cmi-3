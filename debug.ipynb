{
 "cells": [
  {
   "cell_type": "code",
   "execution_count": 1,
   "metadata": {},
   "outputs": [
    {
     "name": "stdout",
     "output_type": "stream",
     "text": [
      "Original data shape: (4, 5)\n",
      "Reduced data shape: (4, 2)\n",
      "Reduced data:\n",
      " [[ 7.11931431e+00 -2.07734536e+00]\n",
      " [ 1.37454287e+01 -1.03111042e+00]\n",
      " [ 2.03715432e+01  1.51245236e-02]\n",
      " [ 2.69976576e+01  1.06135946e+00]]\n"
     ]
    }
   ],
   "source": [
    "from sklearn.decomposition import TruncatedSVD\n",
    "import numpy as np\n",
    "\n",
    "# Sample data: a 4x5 matrix\n",
    "X = np.array([\n",
    "    [1, 2, 3, 4, 5],\n",
    "    [4, 5, 6, 7, 8],\n",
    "    [7, 8, 9, 10, 11],\n",
    "    [10, 11, 12, 13, 14]\n",
    "])\n",
    "\n",
    "# Initialize TruncatedSVD with n_components = 2 to reduce dimensionality to 2\n",
    "svd = TruncatedSVD(n_components=2, random_state=42)\n",
    "X_reduced = svd.fit_transform(X)\n",
    "\n",
    "print(\"Original data shape:\", X.shape)\n",
    "print(\"Reduced data shape:\", X_reduced.shape)\n",
    "print(\"Reduced data:\\n\", X_reduced)"
   ]
  },
  {
   "cell_type": "code",
   "execution_count": 11,
   "metadata": {},
   "outputs": [
    {
     "data": {
      "text/html": [
       "<div>\n",
       "<style scoped>\n",
       "    .dataframe tbody tr th:only-of-type {\n",
       "        vertical-align: middle;\n",
       "    }\n",
       "\n",
       "    .dataframe tbody tr th {\n",
       "        vertical-align: top;\n",
       "    }\n",
       "\n",
       "    .dataframe thead th {\n",
       "        text-align: right;\n",
       "    }\n",
       "</style>\n",
       "<table border=\"1\" class=\"dataframe\">\n",
       "  <thead>\n",
       "    <tr style=\"text-align: right;\">\n",
       "      <th>versioned_ensembl_gene_id</th>\n",
       "      <th>gene1</th>\n",
       "      <th>gene2</th>\n",
       "      <th>gene3</th>\n",
       "    </tr>\n",
       "    <tr>\n",
       "      <th>specimen_id</th>\n",
       "      <th></th>\n",
       "      <th></th>\n",
       "      <th></th>\n",
       "    </tr>\n",
       "  </thead>\n",
       "  <tbody>\n",
       "    <tr>\n",
       "      <th>a</th>\n",
       "      <td>10.0</td>\n",
       "      <td>15.0</td>\n",
       "      <td>NaN</td>\n",
       "    </tr>\n",
       "    <tr>\n",
       "      <th>b</th>\n",
       "      <td>NaN</td>\n",
       "      <td>NaN</td>\n",
       "      <td>20.0</td>\n",
       "    </tr>\n",
       "    <tr>\n",
       "      <th>c</th>\n",
       "      <td>NaN</td>\n",
       "      <td>NaN</td>\n",
       "      <td>5.0</td>\n",
       "    </tr>\n",
       "    <tr>\n",
       "      <th>d</th>\n",
       "      <td>8.0</td>\n",
       "      <td>NaN</td>\n",
       "      <td>NaN</td>\n",
       "    </tr>\n",
       "    <tr>\n",
       "      <th>e</th>\n",
       "      <td>NaN</td>\n",
       "      <td>5.0</td>\n",
       "      <td>NaN</td>\n",
       "    </tr>\n",
       "  </tbody>\n",
       "</table>\n",
       "</div>"
      ],
      "text/plain": [
       "versioned_ensembl_gene_id  gene1  gene2  gene3\n",
       "specimen_id                                   \n",
       "a                           10.0   15.0    NaN\n",
       "b                            NaN    NaN   20.0\n",
       "c                            NaN    NaN    5.0\n",
       "d                            8.0    NaN    NaN\n",
       "e                            NaN    5.0    NaN"
      ]
     },
     "execution_count": 11,
     "metadata": {},
     "output_type": "execute_result"
    }
   ],
   "source": [
    "import pandas as pd\n",
    "# Example DataFrame\n",
    "df = pd.DataFrame({\n",
    "    'versioned_ensembl_gene_id': ['gene1', 'gene2', 'gene3','gene3', 'gene1', 'gene2'],\n",
    "    'specimen_id': ['a', \"a\", 'b', 'c', 'd', 'e'],\n",
    "    'tpm': [10, 15, 20, 5, 8, 5]\n",
    "})\n",
    "\n",
    "# Pivot the DataFrame\n",
    "df_transposed = df.pivot(index='specimen_id', columns='versioned_ensembl_gene_id', values='tpm')\n",
    "\n",
    "# Reset the column name if needed (optional)\n",
    "df_transposed = df_transposed.reset_index().set_index('specimen_id')\n",
    "df_transposed.head()"
   ]
  },
  {
   "cell_type": "code",
   "execution_count": 9,
   "metadata": {},
   "outputs": [
    {
     "name": "stdout",
     "output_type": "stream",
     "text": [
      "     Sample1    Sample2    Sample3\n",
      "0  -3.000000  -3.000000   7.666667\n",
      "1   6.333333  14.333333  -3.000000\n",
      "2   7.666667   7.666667   4.333333\n",
      "3   4.333333   6.333333   6.333333\n",
      "4  14.333333   4.333333  14.333333\n"
     ]
    }
   ],
   "source": [
    "import numpy as np\n",
    "import pandas as pd\n",
    "\n",
    "def quantile_normalize(df):\n",
    "    # Step 1: Sort each column and compute ranks\n",
    "    sorted_df = np.sort(df.values, axis=0)\n",
    "    \n",
    "    # Step 2: Compute the mean across ranks\n",
    "    rank_means = np.mean(sorted_df, axis=1)\n",
    "    \n",
    "    # Step 3: Apply mean ranks to the original data\n",
    "    normalized_df = pd.DataFrame(\n",
    "        df.apply(lambda x: [rank_means[i] for i in pd.Series(x).rank(method=\"min\").astype(int) - 1], axis=0),\n",
    "        index=df.index,\n",
    "        columns=df.columns\n",
    "    )\n",
    "    \n",
    "    return normalized_df\n",
    "\n",
    "# Example usage\n",
    "data = pd.DataFrame({\n",
    "    'Sample1': [-5, 3, 4, 2, 20],\n",
    "    'Sample2': [-10, 8, 6, 4, 2],\n",
    "    'Sample3': [13, 6, 9, 12, 15]\n",
    "})\n",
    "\n",
    "normalized_data = quantile_normalize(data)\n",
    "print(normalized_data)"
   ]
  },
  {
   "cell_type": "code",
   "execution_count": 11,
   "metadata": {},
   "outputs": [
    {
     "name": "stdout",
     "output_type": "stream",
     "text": [
      "[[ 1.40487872 -1.22474487]\n",
      " [-0.84292723  0.        ]\n",
      " [-0.56195149  1.22474487]]\n"
     ]
    }
   ],
   "source": [
    "from sklearn.preprocessing import StandardScaler\n",
    "import pandas as pd\n",
    "\n",
    "# Create a dataframe\n",
    "df = pd.DataFrame({'A': [10, 2, 3], 'B': [4, 5, 6]})\n",
    "\n",
    "# Create a StandardScaler object\n",
    "scaler = StandardScaler()\n",
    "\n",
    "# Fit the scaler to the data\n",
    "scaler.fit(df)\n",
    "\n",
    "# Transform the data using the fitted scaler\n",
    "df_scaled = scaler.transform(df)\n",
    "\n",
    "print(df_scaled)"
   ]
  },
  {
   "cell_type": "code",
   "execution_count": 18,
   "metadata": {},
   "outputs": [
    {
     "name": "stdout",
     "output_type": "stream",
     "text": [
      "[1. 3.]\n"
     ]
    }
   ],
   "source": [
    "import numpy as np\n",
    "\n",
    "# Example array with some NaN values\n",
    "tmp = np.array([2.0, 8.0])\n",
    "all_nan = np.array([[np.nan,np.nan, np.nan], [1, 4, 3]])\n",
    "with np.errstate(invalid='ignore'):  # Suppress warnings for all-NaN slices\n",
    "    nonzero_median = np.nanquantile(all_nan, q=0.5, axis=1).astype(tmp.dtype)\n",
    "# Replace NaN values with 1\n",
    "nonzero_median = np.where(np.isnan(nonzero_median), 1, nonzero_median)\n",
    "\n",
    "print(nonzero_median)"
   ]
  },
  {
   "cell_type": "code",
   "execution_count": 2,
   "metadata": {},
   "outputs": [
    {
     "name": "stdout",
     "output_type": "stream",
     "text": [
      "  year_of_birth date_of_boost  actual_day_relative_to_boost  \\\n",
      "0    1986-01-01    2016-09-12                            -4   \n",
      "1    1990-05-10    2017-08-20                            10   \n",
      "2    1982-07-15    2019-03-22                             0   \n",
      "\n",
      "   age_at_adjusted_boost  \n",
      "0              30.685832  \n",
      "1              27.307324  \n",
      "2              36.684463  \n"
     ]
    }
   ],
   "source": [
    "import pandas as pd\n",
    "\n",
    "# Sample data\n",
    "data = {\n",
    "    \"year_of_birth\": [\"1986-01-01\", \"1990-05-10\", \"1982-07-15\"],\n",
    "    \"date_of_boost\": [\"2016-09-12\", \"2017-08-20\", \"2019-03-22\"],\n",
    "    \"actual_day_relative_to_boost\": [-4, 10, 0]\n",
    "}\n",
    "\n",
    "df = pd.DataFrame(data)\n",
    "\n",
    "# Convert year_of_birth and date_of_boost to datetime\n",
    "df[\"year_of_birth\"] = pd.to_datetime(df[\"year_of_birth\"])\n",
    "df[\"date_of_boost\"] = pd.to_datetime(df[\"date_of_boost\"])\n",
    "\n",
    "# Calculate the adjusted date of boost\n",
    "df[\"adjusted_boost_date\"] = df[\"date_of_boost\"] + pd.to_timedelta(df[\"actual_day_relative_to_boost\"], unit=\"D\")\n",
    "\n",
    "# Calculate the age as a float (years with decimals)\n",
    "df[\"age_at_adjusted_boost\"] = (df[\"adjusted_boost_date\"] - df[\"year_of_birth\"]).dt.total_seconds() / (365.25 * 24 * 60 * 60)\n",
    "\n",
    "# Drop the intermediate column if desired\n",
    "df.drop(columns=[\"adjusted_boost_date\"], inplace=True)\n",
    "\n",
    "print(df)\n"
   ]
  }
 ],
 "metadata": {
  "kernelspec": {
   "display_name": "cmi",
   "language": "python",
   "name": "python3"
  },
  "language_info": {
   "codemirror_mode": {
    "name": "ipython",
    "version": 3
   },
   "file_extension": ".py",
   "mimetype": "text/x-python",
   "name": "python",
   "nbconvert_exporter": "python",
   "pygments_lexer": "ipython3",
   "version": "3.12.5"
  }
 },
 "nbformat": 4,
 "nbformat_minor": 2
}
